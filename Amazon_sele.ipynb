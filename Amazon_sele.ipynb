{
 "cells": [
  {
   "cell_type": "code",
   "execution_count": 1,
   "metadata": {},
   "outputs": [
    {
     "name": "stdout",
     "output_type": "stream",
     "text": [
      "Requirement already satisfied: selenium==4.0.0.b4 in c:\\users\\dell\\anaconda3\\lib\\site-packages (4.0.0b4)\n",
      "Requirement already satisfied: urllib3~=1.26 in c:\\users\\dell\\anaconda3\\lib\\site-packages (from urllib3[secure]~=1.26->selenium==4.0.0.b4) (1.26.20)\n",
      "Requirement already satisfied: trio~=0.17 in c:\\users\\dell\\anaconda3\\lib\\site-packages (from selenium==4.0.0.b4) (0.28.0)\n",
      "Requirement already satisfied: trio-websocket~=0.9 in c:\\users\\dell\\anaconda3\\lib\\site-packages (from selenium==4.0.0.b4) (0.11.1)\n",
      "Requirement already satisfied: attrs>=23.2.0 in c:\\users\\dell\\anaconda3\\lib\\site-packages (from trio~=0.17->selenium==4.0.0.b4) (24.3.0)\n",
      "Requirement already satisfied: sortedcontainers in c:\\users\\dell\\anaconda3\\lib\\site-packages (from trio~=0.17->selenium==4.0.0.b4) (2.4.0)\n",
      "Requirement already satisfied: idna in c:\\users\\dell\\anaconda3\\lib\\site-packages (from trio~=0.17->selenium==4.0.0.b4) (3.7)\n",
      "Requirement already satisfied: outcome in c:\\users\\dell\\anaconda3\\lib\\site-packages (from trio~=0.17->selenium==4.0.0.b4) (1.3.0.post0)\n",
      "Requirement already satisfied: sniffio>=1.3.0 in c:\\users\\dell\\anaconda3\\lib\\site-packages (from trio~=0.17->selenium==4.0.0.b4) (1.3.0)\n",
      "Requirement already satisfied: cffi>=1.14 in c:\\users\\dell\\anaconda3\\lib\\site-packages (from trio~=0.17->selenium==4.0.0.b4) (1.17.1)\n",
      "Requirement already satisfied: wsproto>=0.14 in c:\\users\\dell\\anaconda3\\lib\\site-packages (from trio-websocket~=0.9->selenium==4.0.0.b4) (1.2.0)\n",
      "Requirement already satisfied: pyOpenSSL>=0.14 in c:\\users\\dell\\anaconda3\\lib\\site-packages (from urllib3[secure]~=1.26->selenium==4.0.0.b4) (24.2.1)\n",
      "Requirement already satisfied: cryptography>=1.3.4 in c:\\users\\dell\\anaconda3\\lib\\site-packages (from urllib3[secure]~=1.26->selenium==4.0.0.b4) (43.0.0)\n",
      "Requirement already satisfied: certifi in c:\\users\\dell\\anaconda3\\lib\\site-packages (from urllib3[secure]~=1.26->selenium==4.0.0.b4) (2024.12.14)\n",
      "Requirement already satisfied: urllib3-secure-extra in c:\\users\\dell\\anaconda3\\lib\\site-packages (from urllib3[secure]~=1.26->selenium==4.0.0.b4) (0.1.0)\n",
      "Requirement already satisfied: pycparser in c:\\users\\dell\\anaconda3\\lib\\site-packages (from cffi>=1.14->trio~=0.17->selenium==4.0.0.b4) (2.21)\n",
      "Requirement already satisfied: h11<1,>=0.9.0 in c:\\users\\dell\\anaconda3\\lib\\site-packages (from wsproto>=0.14->trio-websocket~=0.9->selenium==4.0.0.b4) (0.14.0)\n",
      "Note: you may need to restart the kernel to use updated packages.\n"
     ]
    }
   ],
   "source": [
    "pip install selenium==4.0.0.b4"
   ]
  },
  {
   "cell_type": "code",
   "execution_count": null,
   "metadata": {},
   "outputs": [],
   "source": []
  },
  {
   "cell_type": "code",
   "execution_count": null,
   "metadata": {},
   "outputs": [],
   "source": [
    "import pandas as pd\n",
    "from selenium import webdriver\n",
    "from selenium.webdriver.chrome.service import Service\n",
    "from selenium.webdriver.common.keys import Keys\n",
    "from selenium.webdriver.common.by import By\n",
    "from selenium.common.exceptions import NoSuchElementException, StaleElementReferenceException\n",
    "import time\n",
    "import pandas\n",
    "\n"
   ]
  },
  {
   "cell_type": "code",
   "execution_count": null,
   "metadata": {},
   "outputs": [],
   "source": []
  },
  {
   "cell_type": "code",
   "execution_count": null,
   "metadata": {},
   "outputs": [],
   "source": [
    "pd_url = []\n",
    "names =[]\n",
    "prices =[]\n",
    "description=[]\n",
    "ratings =[]\n",
    "availability =[]\n",
    "exp_delivary=[]"
   ]
  },
  {
   "cell_type": "code",
   "execution_count": null,
   "metadata": {},
   "outputs": [],
   "source": [
    "s = Service(\"C:/Windows/Webdriver/chromedriver.exe\")\n",
    "driver = webdriver.Chrome(service=s)\n",
    "driver.get(\"https://search.brave.com/\")\n",
    "time.sleep(2)\n",
    "search = driver.find_element(By.XPATH,\"\"\"/html/body/div/div[1]/div[1]/main/div[2]/div[2]/form/textarea\"\"\")\n",
    "search.send_keys(\"Amazon.in\")\n",
    "search.send_keys(Keys.ENTER)\n",
    "driver.find_element(By.XPATH,\"\"\"/html/body/div/div[1]/main/div[2]/div/main/div[1]/div[1]/a/div/div/div[2]\"\"\").click()\n",
    "search1 = driver.find_element(By.XPATH,\"\"\"/html/body/div[1]/header/div/div[1]/div[2]/div/form/div[2]/div[1]/div/input\"\"\")\n",
    "search1.send_keys(['laptops ','intel ','16gb'])\n",
    "driver.find_element(By.XPATH,\"\"\"/html/body/div[1]/header/div/div[1]/div[2]/div/form/div[3]/div/span/input\"\"\").click()\n",
    "time.sleep(3)\n",
    "\n",
    "for i in range(5):\n",
    "    title = driver.find_elements(By.XPATH,\"\"\"//a[@class=\"a-link-normal s-line-clamp-2 s-link-style a-text-normal\"]\"\"\")\n",
    "    for i in title:\n",
    "        pd_url.append(i.get_attribute('href'))\n",
    "\n",
    "\n",
    "next_button = driver.find_element(By.XPATH,\"\"\"//a[@class=\"s-pagination-item s-pagination-next s-pagination-button s-pagination-button-accessibility s-pagination-separator\"]\"\"\")\n",
    "next_button.click()\n",
    "time.sleep(3)\n",
    "\n",
    "\n",
    "for i in pd_url:\n",
    "    driver.get(i)\n",
    "    time.sleep(6)\n",
    "\n",
    "\n",
    "    try:\n",
    "        name = driver.find_element(By.XPATH, \"\"\"//*[@id=\"productTitle\"]\"\"\")\n",
    "        names.append(name.text)\n",
    "    except NoSuchElementException:\n",
    "        names.append('-')\n",
    "\n",
    "    try:\n",
    "        price = driver.find_element(By.XPATH,\"\"\"//*[@id=\"corePriceDisplay_desktop_feature_div\"]/div[1]/span[3]/span[2]/span[2]\"\"\")\n",
    "        prices.append(price.text)\n",
    "    except NoSuchElementException:\n",
    "        prices.append('-')\n",
    "    \n",
    "    read_more = driver.find_element(By.XPATH, \"\"\"//*[@id=\"poToggleButton\"]/a/span\"\"\")\n",
    "    read_more.click()\n",
    "    \n",
    "    try:\n",
    "        desc_element = driver.find_elements(By.XPATH, \"\"\"//span[@class=\"a-size-base po-break-word\"]\"\"\")\n",
    "        desc_text = ','.join([i.text for i in desc_element])\n",
    "        description.append(desc_text)\n",
    "    except NoSuchElementException:\n",
    "        description.append('-')\n",
    "\n",
    "    try:\n",
    "        rate = driver.find_element(By.XPATH,\"\"\"//*[@id=\"acrPopover\"]/span[1]/a/span\"\"\")\n",
    "        ratings.append(rate.text)\n",
    "    except NoSuchElementException:\n",
    "        ratings.append('-')\n",
    "\n",
    "    try:\n",
    "        availab = driver.find_element(By.XPATH, \"\"\"//*[@id=\"availability\"]/span\"\"\")\n",
    "        availability.append(availab.text)\n",
    "    except NoSuchElementException:\n",
    "        availability.append('-')\n",
    "    \n",
    "    try:\n",
    "        exp_dl = driver.find_element(By.XPATH, \"\"\"//*[@id=\"mir-layout-DELIVERY_BLOCK-slot-PRIMARY_DELIVERY_MESSAGE_LARGE\"]/span/span[1]\"\"\")\n",
    "        exp_delivary.append(exp_dl.text)\n",
    "    except NoSuchElementException:\n",
    "        exp_delivary.append('-')\n"
   ]
  },
  {
   "cell_type": "code",
   "execution_count": null,
   "metadata": {},
   "outputs": [],
   "source": [
    "print(len(pd_url))\n"
   ]
  },
  {
   "cell_type": "code",
   "execution_count": null,
   "metadata": {},
   "outputs": [],
   "source": [
    "df = pd.DataFrame({'Product Name': names, 'Product Price': prices, 'Product Ratings': ratings, 'Product Description': description})"
   ]
  },
  {
   "cell_type": "code",
   "execution_count": null,
   "metadata": {},
   "outputs": [],
   "source": [
    "df"
   ]
  },
  {
   "cell_type": "code",
   "execution_count": null,
   "metadata": {},
   "outputs": [],
   "source": [
    "df.to_csv(r\"D:\\Python\\Amazon_Multipage_scraping.csv\")"
   ]
  }
 ],
 "metadata": {
  "kernelspec": {
   "display_name": "base",
   "language": "python",
   "name": "python3"
  },
  "language_info": {
   "codemirror_mode": {
    "name": "ipython",
    "version": 3
   },
   "file_extension": ".py",
   "mimetype": "text/x-python",
   "name": "python",
   "nbconvert_exporter": "python",
   "pygments_lexer": "ipython3",
   "version": "3.12.7"
  }
 },
 "nbformat": 4,
 "nbformat_minor": 2
}
